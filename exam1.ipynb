{
  "nbformat": 4,
  "nbformat_minor": 0,
  "metadata": {
    "colab": {
      "provenance": [],
      "authorship_tag": "ABX9TyOLCkPNPkpyqOslf59h3RmH",
      "include_colab_link": true
    },
    "kernelspec": {
      "name": "python3",
      "display_name": "Python 3"
    },
    "language_info": {
      "name": "python"
    }
  },
  "cells": [
    {
      "cell_type": "markdown",
      "metadata": {
        "id": "view-in-github",
        "colab_type": "text"
      },
      "source": [
        "<a href=\"https://colab.research.google.com/github/Tsukkei/CCDATRCL_EXAM_COM221/blob/main/exam1.ipynb\" target=\"_parent\"><img src=\"https://colab.research.google.com/assets/colab-badge.svg\" alt=\"Open In Colab\"/></a>"
      ]
    },
    {
      "cell_type": "markdown",
      "source": [
        "# Midterm Exam 💛💙\n"
      ],
      "metadata": {
        "id": "Kq562JENgfTS"
      }
    },
    {
      "cell_type": "markdown",
      "source": [
        "**Instructions** ❗️❗️\n",
        "\n",
        "❌ Do not remove or modify the notebook **sections**, **subsections**, **exam questions** or **any text** in this python notebook\n",
        "\n",
        "✔️ Put your answer in the designated cells below each question"
      ],
      "metadata": {
        "id": "4aSdlAQ2gkWx"
      }
    },
    {
      "cell_type": "markdown",
      "source": [
        "## Search"
      ],
      "metadata": {
        "id": "nRFCjwBAgqvZ"
      }
    },
    {
      "cell_type": "code",
      "execution_count": 1,
      "metadata": {
        "id": "B9zp10VEfo9p"
      },
      "outputs": [],
      "source": [
        "def linearSearch(my_list, number):\n",
        "\n",
        "    index = 0\n",
        "\n",
        "    for i in my_list:\n",
        "\n",
        "        if my_list[index] == number:\n",
        "            return index\n",
        "\n",
        "        index = index + 1\n",
        "\n",
        "    return -1"
      ]
    },
    {
      "cell_type": "markdown",
      "source": [
        "1. Using **linear search**, write a `findLargestIncrease()` function to find the largest increase in value between two adjacent numbers in your student number `(10 points)`\n",
        "\n",
        "    **Example:**\n",
        "\n",
        "    student_number = [2,0,2,2,6,2,5,1,9,3]\n",
        "\n",
        "    **Expected Output:**\n",
        "\n",
        "    findLargestIncrease(student_number)\n",
        "\n",
        "    Output: Between 1 and 9\n",
        "\n",
        "    **Explanation:**\n",
        "\n",
        "    From this student_number, the largest increase happened from number 1 to number 9"
      ],
      "metadata": {
        "id": "AKj5bgoogvB4"
      }
    },
    {
      "cell_type": "code",
      "source": [
        "# put your answer here\n",
        "\n",
        "def findLargestIncrease(student_number):\n",
        "  largest_increase = -1\n",
        "  start_index = -1\n",
        "  end_index = -1\n",
        "\n",
        "  for i in range(len(student_number) - 1):\n",
        "      increase = student_number[i + 1] - student_number[i]\n",
        "\n",
        "      if increase > largest_increase:\n",
        "        largest_increase = increase\n",
        "        start_index = i\n",
        "        end_index = i + 1\n",
        "\n",
        "  if largest_increase == -1:\n",
        "    return \"No increase found\"\n",
        "  else:\n",
        "    return f\"Between {student_number[start_index]} and {student_number[end_index]}\"\n",
        "\n",
        "student_number = [2, 0, 2, 2, 1, 0, 3, 1, 5, 5]\n",
        "result = findLargestIncrease(student_number)\n",
        "print(\"Output: \", result)"
      ],
      "metadata": {
        "colab": {
          "base_uri": "https://localhost:8080/"
        },
        "id": "mxivhu0xgxJQ",
        "outputId": "d53ac8dc-8541-439a-aae9-f655bb6f8390"
      },
      "execution_count": 6,
      "outputs": [
        {
          "output_type": "stream",
          "name": "stdout",
          "text": [
            "Output:  Between 1 and 5\n"
          ]
        }
      ]
    },
    {
      "cell_type": "markdown",
      "source": [
        "2. Using **linear search**, write a `findLargestDecrease()` function to find the largest decrease in value between two adjacent numbers in your student number `(10 points)`\n",
        "\n",
        "    **Example:**\n",
        "\n",
        "    student_number = [2,0,2,2,6,2,5,1,9,3]\n",
        "\n",
        "    **Expected Output:**\n",
        "\n",
        "    findLargestDecrease(student_number)\n",
        "\n",
        "    Output: Between 9 and 3\n",
        "\n",
        "    **Explanation:**\n",
        "\n",
        "    From this student_number, the largest decrease happened from number 9 to number 3"
      ],
      "metadata": {
        "id": "CY2SpA9og3Tx"
      }
    },
    {
      "cell_type": "code",
      "source": [
        "# put your answer here\n",
        "\n",
        "def findLargestDecrease(student_number):\n",
        "  largest_decrease = 0\n",
        "  start_index = -1\n",
        "  end_index = -1\n",
        "\n",
        "  for i in range(len(student_number) - 1):\n",
        "      decrease = student_number[i + 1] - student_number[i + 1]\n",
        "\n",
        "      if decrease > largest_decrease:\n",
        "        largest_decrease = decrease\n",
        "        start_index = i\n",
        "        end_index = i + 1\n",
        "\n",
        "  if largest_decrease == 0:\n",
        "    return \"No decrease found\"\n",
        "  else:\n",
        "    return f\"Between {student_number[start_index]} and {student_number[end_index]}\"\n",
        "\n",
        "student_number = [2, 0, 2, 2, 1, 0, 3, 1, 5, 5]\n",
        "result = findLargestDecrease(student_number)\n",
        "print(\"Output: \", result)"
      ],
      "metadata": {
        "colab": {
          "base_uri": "https://localhost:8080/"
        },
        "id": "s_Oz5_Vng5Uh",
        "outputId": "4aa9df54-53ee-4d1e-b0c6-f0b0557126d6"
      },
      "execution_count": 9,
      "outputs": [
        {
          "output_type": "stream",
          "name": "stdout",
          "text": [
            "Output:  No decrease found\n"
          ]
        }
      ]
    },
    {
      "cell_type": "markdown",
      "source": [
        "## Linked List"
      ],
      "metadata": {
        "id": "HNKu2eR0g86B"
      }
    },
    {
      "cell_type": "code",
      "source": [
        "class Node:\n",
        "\n",
        "    def __init__(self, data):\n",
        "        self.data = data\n",
        "        self.next = None  # null"
      ],
      "metadata": {
        "id": "Z2SEQyBbg-0Z"
      },
      "execution_count": 2,
      "outputs": []
    },
    {
      "cell_type": "code",
      "source": [
        "class LinkedList:\n",
        "\n",
        "    def __init__(self):\n",
        "        self.head = None\n",
        "\n",
        "    def traverse(self, node):\n",
        "        while node:\n",
        "            print(node.data, end=\" -> \")\n",
        "            node = node.next"
      ],
      "metadata": {
        "id": "whO1vHC5hBYB"
      },
      "execution_count": 3,
      "outputs": []
    },
    {
      "cell_type": "markdown",
      "source": [
        "**Instructions** ❗️❗️\n",
        "\n",
        "Use the pre-defined linked list class/functions to create a linked list"
      ],
      "metadata": {
        "id": "xgzBYqn2hDXY"
      }
    },
    {
      "cell_type": "markdown",
      "source": [
        "1. Create a Singly linked list named **num_list** and print all of its elements. `(5 points)`\n",
        "\n",
        "- **num_list** should contain all digits of your student number.\n",
        "\n",
        "    **Expected Output:**\n",
        "\n",
        "    print(num_list)\n",
        "\n",
        "    [2, 0, 2, 2, 1, 2, 3, 4, 5, 6]"
      ],
      "metadata": {
        "id": "XP_-gJwBhKrQ"
      }
    },
    {
      "cell_type": "code",
      "source": [
        "# put your answer here\n",
        "\n",
        "student_number = \"2022103155\"\n",
        "\n",
        "num_list = LinkedList()\n",
        "\n",
        "for digit in student_number:\n",
        "    num_list_node = Node(int(digit))\n",
        "    if num_list.head is None:\n",
        "        num_list.head = num_list_node\n",
        "    else:\n",
        "        current_node = num_list.head\n",
        "        while current_node.next is not None:\n",
        "            current_node = current_node.next\n",
        "        current_node.next = num_list_node\n",
        "\n",
        "result = []\n",
        "current_node = num_list.head\n",
        "while current_node:\n",
        "    result.append(current_node.data)\n",
        "    current_node = current_node.next\n",
        "\n",
        "print(result)"
      ],
      "metadata": {
        "colab": {
          "base_uri": "https://localhost:8080/"
        },
        "id": "wWG8hKGfhIDQ",
        "outputId": "4de022f1-c252-449d-c165-d94a20433cb9"
      },
      "execution_count": 10,
      "outputs": [
        {
          "output_type": "stream",
          "name": "stdout",
          "text": [
            "[2, 0, 2, 2, 1, 0, 3, 1, 5, 5]\n"
          ]
        }
      ]
    },
    {
      "cell_type": "markdown",
      "source": [
        "2. Write a `hasPrime()` function to test whether a prime number is in the last six digits of **num_list**. `(5 points)`\n",
        "\n",
        "- If a prime number is in the last six digits of **num_list**, the method should return **true**\n",
        "\n",
        "- If a prime number is not in the last six digits of **num_list**, the method should return **false**\n",
        "\n",
        "    **Expected Output:**\n",
        "\n",
        "    hasPrime(num_list)\n",
        "\n",
        "    True"
      ],
      "metadata": {
        "id": "Bz5XbOY8hNkq"
      }
    },
    {
      "cell_type": "code",
      "source": [
        "# put your answer here\n",
        "\n",
        "# Student Number: 2022103155\n",
        "\n",
        "def is_prime(num):\n",
        "    if num <= 1:\n",
        "        return False\n",
        "    if num == 2:\n",
        "        return True\n",
        "    if num % 2 == 0:\n",
        "        return False\n",
        "    for i in range(3, int(num**0.5) + 1, 2):\n",
        "        if num % i == 0:\n",
        "            return False\n",
        "    return True\n",
        "\n",
        "def hasPrime(num_list):\n",
        "    last_six_digits = \"\"\n",
        "    current_node = num_list.head\n",
        "\n",
        "    while current_node:\n",
        "        last_six_digits += str(current_node.data)\n",
        "        current_node = current_node.next\n",
        "\n",
        "    last_six_digits = last_six_digits[-6:]\n",
        "    for digit in last_six_digits:\n",
        "        if is_prime(int(digit)):\n",
        "            return True\n",
        "    return False\n",
        "\n",
        "result = hasPrime(num_list)\n",
        "print(result)"
      ],
      "metadata": {
        "colab": {
          "base_uri": "https://localhost:8080/"
        },
        "id": "7pwezjcNhQQR",
        "outputId": "fc7c4b85-8ee5-4e20-d409-72de804415cc"
      },
      "execution_count": 11,
      "outputs": [
        {
          "output_type": "stream",
          "name": "stdout",
          "text": [
            "True\n"
          ]
        }
      ]
    },
    {
      "cell_type": "markdown",
      "source": [
        "3. Write a `removeZeroes()` function to remove all occurrences of zeroes in **num_list**. `(5 points)`\n",
        "\n",
        "- If a zero is in **num_list**, return **num_list**\n",
        "\n",
        "- If there are no zeroes in **num_list**, return **\"no zeros found\"**\n",
        "\n",
        "    **Expected Output:**\n",
        "\n",
        "    removeZeroes(num_list)\n",
        "\n",
        "    [2, 2, 1, 2, 3, 4, 5, 6]"
      ],
      "metadata": {
        "id": "RQla1geQhRx5"
      }
    },
    {
      "cell_type": "code",
      "source": [
        "# put your answer here\n",
        "\n",
        "# Student Number: 2022103155\n",
        "\n",
        "def removeZeroes(num_list):\n",
        "    if num_list.head is None:\n",
        "        return \"No zeros found\"\n",
        "\n",
        "    # Remove leading zeros\n",
        "    while num_list.head and num_list.head.data == 0:\n",
        "        num_list.head = num_list.head.next\n",
        "\n",
        "    current_node = num_list.head\n",
        "    result_list = []\n",
        "\n",
        "    while current_node:\n",
        "        if current_node.data != 0:\n",
        "            result_list.append(current_node.data)\n",
        "        current_node = current_node.next\n",
        "\n",
        "    if not result_list:\n",
        "        return \"No zeros found\"\n",
        "\n",
        "    return result_list\n",
        "\n",
        "result = removeZeroes(num_list)\n",
        "print(result)"
      ],
      "metadata": {
        "colab": {
          "base_uri": "https://localhost:8080/"
        },
        "id": "xHfD_peEhYDZ",
        "outputId": "1a2ad16d-dd47-4df5-c208-1b8624b67862"
      },
      "execution_count": 12,
      "outputs": [
        {
          "output_type": "stream",
          "name": "stdout",
          "text": [
            "[2, 2, 2, 1, 3, 1, 5, 5]\n"
          ]
        }
      ]
    },
    {
      "cell_type": "markdown",
      "source": [
        "4. Insert a dash symbol between the 4th and 5th digit in **num_list**. `(5 points)`\n",
        "\n",
        "    **Expected Output:**\n",
        "\n",
        "    print(num_list)\n",
        "\n",
        "    [2, 0, 2, 2, \"-\", 1, 2, 3, 4, 5, 6]"
      ],
      "metadata": {
        "id": "ZcxtBu9uhZiB"
      }
    },
    {
      "cell_type": "code",
      "source": [
        "# put your answer here\n",
        "\n",
        "# Student Number: 2022103155\n",
        "\n",
        "num_list = LinkedList()\n",
        "\n",
        "for i, digit in enumerate(student_number):\n",
        "    num_list_node = Node(int(digit))\n",
        "    if i == 4:\n",
        "        dash_node = Node(\"-\")\n",
        "        dash_node.next = num_list_node\n",
        "        num_list_node = dash_node\n",
        "\n",
        "    if num_list.head is None:\n",
        "        num_list.head = num_list_node\n",
        "    else:\n",
        "        current_node = num_list.head\n",
        "        while current_node.next is not None:\n",
        "            current_node = current_node.next\n",
        "        current_node.next = num_list_node\n",
        "\n",
        "result = []\n",
        "current_node = num_list.head\n",
        "while current_node:\n",
        "    result.append(current_node.data)\n",
        "    current_node = current_node.next\n",
        "\n",
        "print(result)"
      ],
      "metadata": {
        "colab": {
          "base_uri": "https://localhost:8080/"
        },
        "id": "snBGk9Zthbjx",
        "outputId": "49496d01-6d86-4331-846c-3615326c7402"
      },
      "execution_count": 13,
      "outputs": [
        {
          "output_type": "stream",
          "name": "stdout",
          "text": [
            "[2, 0, 2, 2, '-', 1, 0, 3, 1, 5, 5]\n"
          ]
        }
      ]
    },
    {
      "cell_type": "markdown",
      "source": [
        "## Stack"
      ],
      "metadata": {
        "id": "KtMgI4aVhc-B"
      }
    },
    {
      "cell_type": "code",
      "source": [
        "# Creating a stack\n",
        "def create_stack():\n",
        "    stack = []\n",
        "    return stack\n",
        "\n",
        "\n",
        "def print_stack(stack):\n",
        "\n",
        "    if (check_empty(stack)):\n",
        "        return \"stack is empty\"\n",
        "\n",
        "    # Create a copy of the stack and reverse the elements\n",
        "    tempStack = stack.copy()\n",
        "    tempStack.reverse()\n",
        "\n",
        "    # Print all elements using a loop\n",
        "    for i in tempStack:\n",
        "        print(i)\n",
        "\n",
        "    # Delete the copy to free up memory\n",
        "    del tempStack\n",
        "\n",
        "# Creating an empty stack\n",
        "\n",
        "\n",
        "def check_empty(stack):\n",
        "    return len(stack) == 0\n",
        "\n",
        "\n",
        "# Adding items into the stack\n",
        "def push(stack, item):\n",
        "    stack.append(item)\n",
        "    print(\"pushed item: \" + item)\n",
        "\n",
        "\n",
        "# Removing an element from the stack\n",
        "def pop(stack):\n",
        "    if (check_empty(stack)):\n",
        "        return \"stack is empty\"\n",
        "\n",
        "    return stack.pop()\n",
        "\n",
        "\n",
        "def peek(stack):\n",
        "\n",
        "    # Use negative indexing to display the last element of the list\n",
        "    print(stack[-1])"
      ],
      "metadata": {
        "id": "GKZb8KChhhBZ"
      },
      "execution_count": 4,
      "outputs": []
    },
    {
      "cell_type": "markdown",
      "source": [
        "**Instructions** ❗️❗️\n",
        "\n",
        "Use the pre-defined stack class/functions to create a stack"
      ],
      "metadata": {
        "id": "BeDeqriFhmip"
      }
    },
    {
      "cell_type": "markdown",
      "source": [
        "1. Create two (2) stacks named **name_stack** and **num_stack** `(5 points)`\n",
        "\n",
        "- **name_stack** should contain all letters of your first name.\n",
        "- **num_stack** should contain all digits of your student number.\n",
        "\n",
        "    **Expected Output:**\n",
        "\n",
        "    print(name_stack)\n",
        "\n",
        "    ['E', 'L', 'I', 'Z', 'E', 'R']\n",
        "\n",
        "    print(num_stack)\n",
        "\n",
        "    [2,0,2,2,1,2,3,4,5,6]"
      ],
      "metadata": {
        "id": "LxLsKdyUhobJ"
      }
    },
    {
      "cell_type": "code",
      "source": [
        "# put your answer here\n",
        "\n",
        "name_stack = create_stack()\n",
        "num_stack = create_stack()\n",
        "\n",
        "first_name = \"EARL\"\n",
        "\n",
        "for letter in first_name:\n",
        "    push(name_stack, letter)\n",
        "\n",
        "student_number = [2, 0, 2, 2, 1, 0, 3, 1, 5, 5]\n",
        "\n",
        "for digit in student_number:\n",
        "    num_stack.append(digit)\n",
        "\n",
        "print(\"\")\n",
        "print(name_stack)\n",
        "print(num_stack)"
      ],
      "metadata": {
        "colab": {
          "base_uri": "https://localhost:8080/"
        },
        "id": "YDFuteqLhoC5",
        "outputId": "42ff368e-3bcf-4616-8b8a-cfab09a48490"
      },
      "execution_count": 14,
      "outputs": [
        {
          "output_type": "stream",
          "name": "stdout",
          "text": [
            "pushed item: E\n",
            "pushed item: A\n",
            "pushed item: R\n",
            "pushed item: L\n",
            "\n",
            "['E', 'A', 'R', 'L']\n",
            "[2, 0, 2, 2, 1, 0, 3, 1, 5, 5]\n"
          ]
        }
      ]
    },
    {
      "cell_type": "markdown",
      "source": [
        "2. Create a stack named **my_stack** that follows the following format: `(5 points)`\n",
        "\n",
        "- The first element should be the **5th digit in your student number**\n",
        "- The succeeding elements should be the letters of your **first name**\n",
        "- The last element should be the **last digit of your student number**\n",
        "\n",
        "    **Expected Output:**\n",
        "\n",
        "    my_stack = [1, E, L, I, Z, E, R, 6]"
      ],
      "metadata": {
        "id": "6s9vrZEPhs9S"
      }
    },
    {
      "cell_type": "code",
      "source": [
        "# put your answer here\n",
        "\n",
        "# Student Number: 2022103155\n",
        "\n",
        "my_stack = create_stack()\n",
        "\n",
        "my_stack.append(student_number[4])\n",
        "for letter in first_name:\n",
        "  my_stack.append(letter)\n",
        "my_stack.append(student_number[-1])\n",
        "\n",
        "print(\"my_stack =\", my_stack)"
      ],
      "metadata": {
        "colab": {
          "base_uri": "https://localhost:8080/"
        },
        "id": "5N1dQbtHhv0R",
        "outputId": "d34477fb-84c8-47c9-efcc-d904776d9517"
      },
      "execution_count": 15,
      "outputs": [
        {
          "output_type": "stream",
          "name": "stdout",
          "text": [
            "my_stack = [1, 'E', 'A', 'R', 'L', 5]\n"
          ]
        }
      ]
    },
    {
      "cell_type": "markdown",
      "source": [
        "3. Write a `verifyStack()` function that will take in `my_stack` and check if its format has been followed `(10 points)`\n",
        "\n",
        "- Return **True** if the format has been followed\n",
        "- Return **False** if the format was not followed\n",
        "- Verify the format by checking the contents of **my_stack** with **name_stack** and **num_stack**\n",
        "\n",
        "    **Expected Output:**\n",
        "\n",
        "    my_stack = [1, E, L, I, Z, E, R, 6]\n",
        "\n",
        "    verifyStack(my_stack)\n",
        "\n",
        "    True\n",
        "\n",
        "    my_stack = [1, S, L, I, Z, E, R, 7]\n",
        "\n",
        "    verifyStack(my_stack)\n",
        "\n",
        "    False"
      ],
      "metadata": {
        "id": "gUt48g7phxth"
      }
    },
    {
      "cell_type": "code",
      "source": [
        "# put your answer here\n",
        "\n",
        "# Student Number: 2022103155\n",
        "\n",
        "def verifyStack(my_stack):\n",
        "\n",
        "    last_digit = int(str(my_stack[-1]))\n",
        "\n",
        "    characters = my_stack[1:-1]\n",
        "\n",
        "    return last_digit == 5 and characters == name_stack\n",
        "\n",
        "my_stack1 = [1, 'E', 'A', 'R', 'L', 5]\n",
        "print(\"verifyStack(my_stack1) Output:\", verifyStack(my_stack1))\n",
        "\n",
        "my_stack2 = [1, 'R', 'E', 'A', 'L', 7]\n",
        "print(\"verifyStack(my_stack2) Output:\", verifyStack(my_stack2))"
      ],
      "metadata": {
        "colab": {
          "base_uri": "https://localhost:8080/"
        },
        "id": "JysuQaAThzLZ",
        "outputId": "b8d17604-c7ec-4bbb-e6ed-cd5aea503714"
      },
      "execution_count": 16,
      "outputs": [
        {
          "output_type": "stream",
          "name": "stdout",
          "text": [
            "verifyStack(my_stack1) Output: True\n",
            "verifyStack(my_stack2) Output: False\n"
          ]
        }
      ]
    },
    {
      "cell_type": "markdown",
      "source": [
        "## Queue"
      ],
      "metadata": {
        "id": "D99lJTDch0xZ"
      }
    },
    {
      "cell_type": "code",
      "source": [
        "class Queue:\n",
        "    def __init__(self):\n",
        "        self.queue = []\n",
        "\n",
        "    # Add an element\n",
        "    def enqueue(self, item):\n",
        "        self.queue.append(item)\n",
        "\n",
        "    # Remove an element\n",
        "    def dequeue(self):\n",
        "        if len(self.queue) < 1:\n",
        "            return None\n",
        "        return self.queue.pop(0)\n",
        "\n",
        "    # Display  the queue\n",
        "    def display(self):\n",
        "        print(self.queue)\n",
        "\n",
        "    def size(self):\n",
        "        return len(self.queue)\n",
        "\n",
        "    def peek(self):\n",
        "        return self.queue[0]"
      ],
      "metadata": {
        "id": "LGgA2oaMh2d4"
      },
      "execution_count": 5,
      "outputs": []
    },
    {
      "cell_type": "markdown",
      "source": [
        "**Instructions** ❗️❗️\n",
        "\n",
        "Use the pre-defined queue class/functions to create a Queue"
      ],
      "metadata": {
        "id": "rZvkyYmgh5TT"
      }
    },
    {
      "cell_type": "markdown",
      "source": [
        "1. Create a simple queue named **num_queue** `(5 points)`\n",
        "\n",
        "- **num_queue** should contain all digits of your student number.\n",
        "\n",
        "    **Expected Output:**\n",
        "\n",
        "    print(num_queue)\n",
        "\n",
        "    [2,0,2,2,1,2,3,4,5,6]"
      ],
      "metadata": {
        "id": "v3zA7fgFh5_R"
      }
    },
    {
      "cell_type": "code",
      "source": [
        "# put your answer here\n",
        "\n",
        "student_number = [2, 0, 2, 2, 1, 0, 3, 1, 5, 5]\n",
        "\n",
        "num_queue = Queue()\n",
        "\n",
        "for i in student_number:\n",
        "    num_queue.enqueue(i)\n",
        "\n",
        "num_queue.display()"
      ],
      "metadata": {
        "colab": {
          "base_uri": "https://localhost:8080/"
        },
        "id": "IUs5XCJlh8j7",
        "outputId": "f5a13c5a-a638-4684-b8f8-cf61a44556b5"
      },
      "execution_count": 17,
      "outputs": [
        {
          "output_type": "stream",
          "name": "stdout",
          "text": [
            "[2, 0, 2, 2, 1, 0, 3, 1, 5, 5]\n"
          ]
        }
      ]
    },
    {
      "cell_type": "markdown",
      "source": [
        "2. Write a `getMax()` or `getMin()` function for **num_queue** `(5 points)`\n",
        "\n",
        "- If your student number ends with an odd number, create a `getMax()` function that will return the largest number in **num_queue**\n",
        "- If your student number ends with an even number, create a `getMin()` function that will return the lowest number in **num_queue**\n",
        "\n",
        "    **Expected Output for getMax():**\n",
        "\n",
        "    getMax(num_queue)\n",
        "\n",
        "    6\n",
        "\n",
        "    **Expected Output for getMin():**\n",
        "\n",
        "    getMin(num_queue)\n",
        "\n",
        "    0"
      ],
      "metadata": {
        "id": "qwPoYN90h-Zg"
      }
    },
    {
      "cell_type": "code",
      "source": [
        "# put your answer here\n",
        "\n",
        "# Student Number: 2022103155\n",
        "\n",
        "def getMax(num_queue):\n",
        "\n",
        "    if num_queue.size() == 0:\n",
        "        return None\n",
        "\n",
        "    max_number = num_queue.peek()\n",
        "\n",
        "    while num_queue.size() > 0:\n",
        "        num = num_queue.dequeue()\n",
        "        max_number = max(max_number, num)\n",
        "\n",
        "    return max_number\n",
        "\n",
        "for i in student_number:\n",
        "    num_queue.enqueue(i)\n",
        "\n",
        "print(\"Largest Number:\", getMax(num_queue))"
      ],
      "metadata": {
        "colab": {
          "base_uri": "https://localhost:8080/"
        },
        "id": "qfhqI9q0iBNI",
        "outputId": "db17fd78-6f06-40fa-af32-7ae82d2a737c"
      },
      "execution_count": 18,
      "outputs": [
        {
          "output_type": "stream",
          "name": "stdout",
          "text": [
            "Largest Number: 5\n"
          ]
        }
      ]
    },
    {
      "cell_type": "markdown",
      "source": [
        "3. Write a `getOdd()` or `getEven()` function for  **num_queue** `(5 points)`\n",
        "\n",
        "- If your student number ends with an **odd number**, create a `getOdd()` function that will return all odd numbers in **num_queue**\n",
        "- If your student number ends with an **even number**, create a `getEven()` function that will return all even numbers in **num_queue**\n",
        "\n",
        "    **Expected Output for getOdd():**\n",
        "\n",
        "    getOdd(num_queue)\n",
        "\n",
        "    [1, 3, 5]\n",
        "\n",
        "    **Expected Output for getEven():**\n",
        "\n",
        "    getEven(num_queue)\n",
        "\n",
        "    [0, 2, 4, 6]"
      ],
      "metadata": {
        "id": "__Lnvxp8iEEy"
      }
    },
    {
      "cell_type": "code",
      "source": [
        "# put your answer here\n",
        "\n",
        "# Student Number: 2022103155\n",
        "\n",
        "def getOdd(num_queue):\n",
        "\n",
        "    odd_numbers = []\n",
        "\n",
        "    while num_queue.size() > 0:\n",
        "        num = num_queue.dequeue()\n",
        "        if num % 2 != 0:\n",
        "            odd_numbers.append(num)\n",
        "\n",
        "    for odd in odd_numbers:\n",
        "        num_queue.enqueue(odd)\n",
        "\n",
        "    return odd_numbers\n",
        "\n",
        "num_queue = Queue()\n",
        "\n",
        "for i in student_number:\n",
        "    num_queue.enqueue(i)\n",
        "\n",
        "print(\"Odd Numbers:\", getOdd(num_queue))"
      ],
      "metadata": {
        "colab": {
          "base_uri": "https://localhost:8080/"
        },
        "id": "o8LBpMyJiFp4",
        "outputId": "da386fd3-8732-46b7-fef2-ff5832155647"
      },
      "execution_count": 19,
      "outputs": [
        {
          "output_type": "stream",
          "name": "stdout",
          "text": [
            "Odd Numbers: [1, 3, 1, 5, 5]\n"
          ]
        }
      ]
    },
    {
      "cell_type": "markdown",
      "source": [
        "4. Write a `removeDup()` function that will remove all duplicates in **num_queue** `(5 points)`\n",
        "\n",
        "    **Expected Output:**\n",
        "\n",
        "    removeDup(num_queue)\n",
        "\n",
        "    [2,0,1,3,4,5,6]"
      ],
      "metadata": {
        "id": "hvZoPmqmiHxw"
      }
    },
    {
      "cell_type": "code",
      "source": [
        "# put your answer here\n",
        "\n",
        "# Student Number: 2022103155\n",
        "\n",
        "def removeDup(num_queue):\n",
        "\n",
        "    unique_list = []\n",
        "\n",
        "    while num_queue.size() > 0:\n",
        "        num = num_queue.dequeue()\n",
        "        if num not in unique_list:\n",
        "            unique_list.append(num)\n",
        "\n",
        "    for unique_num in unique_list:\n",
        "        num_queue.enqueue(unique_num)\n",
        "\n",
        "num_queue = Queue()\n",
        "\n",
        "for i in student_number:\n",
        "    num_queue.enqueue(i)\n",
        "\n",
        "removeDup(num_queue)\n",
        "\n",
        "print(\"Deduplicated Queue:\", end=\" \")\n",
        "\n",
        "num_queue.display()"
      ],
      "metadata": {
        "colab": {
          "base_uri": "https://localhost:8080/"
        },
        "id": "4cRsu0mtiJM4",
        "outputId": "8ca10c6d-6a12-4cb3-aaff-2c63c20248de"
      },
      "execution_count": 20,
      "outputs": [
        {
          "output_type": "stream",
          "name": "stdout",
          "text": [
            "Deduplicated Queue: [2, 0, 1, 3, 5]\n"
          ]
        }
      ]
    },
    {
      "cell_type": "markdown",
      "source": [
        "## Sort"
      ],
      "metadata": {
        "id": "_4OH0lQfiKbw"
      }
    },
    {
      "cell_type": "markdown",
      "source": [
        "1. Using any sorting algorithm, sort the **last 6 digits** of your student number in ascending order `(5 points)`\n",
        "\n",
        "    **Example:**\n",
        "\n",
        "    student_number = [2,0,2,2,6,2,5,1,3,4]\n",
        "\n",
        "    **Expected Output:**\n",
        "\n",
        "    print(student_number)\n",
        "\n",
        "    [2,0,2,2,1,2,3,4,5,6]\n"
      ],
      "metadata": {
        "id": "3dGn-97WiMmY"
      }
    },
    {
      "cell_type": "code",
      "source": [
        "# put your answer here\n",
        "student_number = [2, 0, 2, 2, 1, 0, 3, 1, 5, 5]\n",
        "\n",
        "sorted_digits = sorted(student_number[-6:])\n",
        "\n",
        "student_number[-6:] = sorted_digits\n",
        "\n",
        "print(student_number)\n"
      ],
      "metadata": {
        "colab": {
          "base_uri": "https://localhost:8080/"
        },
        "id": "8cLICpagiNxw",
        "outputId": "14a5811e-f5b1-4411-b65c-ea465973f5b0"
      },
      "execution_count": 21,
      "outputs": [
        {
          "output_type": "stream",
          "name": "stdout",
          "text": [
            "[2, 0, 2, 2, 0, 1, 1, 3, 5, 5]\n"
          ]
        }
      ]
    },
    {
      "cell_type": "markdown",
      "source": [
        "2. Using your student_number, separately sort the even numbers in **increasing order** and the odd numbers in **decreasing order** `(15 points)`\n",
        "\n",
        "    **Example:**\n",
        "\n",
        "    student_number = [2,0,2,2,1,2,3,4,5,6]\n",
        "\n",
        "    **Expected Output:**\n",
        "\n",
        "    print(student_number)\n",
        "\n",
        "    [0,2,2,2,2,4,6,5,3,1]"
      ],
      "metadata": {
        "id": "K2UVUhHAiPY4"
      }
    },
    {
      "cell_type": "code",
      "source": [
        "# put your answer here\n",
        "\n",
        "# student number: 2022103155\n",
        "\n",
        "even_numbers = [x for x in student_number if x % 2 == 0]\n",
        "odd_numbers = [x for x in student_number if x % 2 !=0]\n",
        "\n",
        "even_numbers.sort()\n",
        "odd_numbers.sort(reverse=True)\n",
        "\n",
        "sort_student_number = even_numbers + odd_numbers\n",
        "\n",
        "print(sort_student_number)"
      ],
      "metadata": {
        "colab": {
          "base_uri": "https://localhost:8080/"
        },
        "id": "gjw7szxqiP_I",
        "outputId": "b2e8871d-3497-4a6f-f5c7-9fe444f932af"
      },
      "execution_count": 22,
      "outputs": [
        {
          "output_type": "stream",
          "name": "stdout",
          "text": [
            "[0, 0, 2, 2, 2, 5, 5, 3, 1, 1]\n"
          ]
        }
      ]
    }
  ]
}